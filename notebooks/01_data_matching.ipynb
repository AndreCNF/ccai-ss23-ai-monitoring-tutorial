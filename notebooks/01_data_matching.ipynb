{
 "cells": [
  {
   "attachments": {},
   "cell_type": "markdown",
   "metadata": {},
   "source": [
    "# Data matching\n",
    "---\n",
    "\n",
    "Experimenting with matching data from:\n",
    "- Global Energy Monitor (GEM)'s [Global Coal Plant Tracker](https://www.globalenergymonitor.org/coal.html)\n",
    "- USA's [CAMPD emissions data](https://campd.epa.gov/data)\n",
    "- OSM's [cooling_tower](https://wiki.openstreetmap.org/wiki/Tag:man_made%3Dcooling_tower) tag"
   ]
  },
  {
   "attachments": {},
   "cell_type": "markdown",
   "metadata": {},
   "source": [
    "## Setup"
   ]
  },
  {
   "attachments": {},
   "cell_type": "markdown",
   "metadata": {},
   "source": [
    "### Imports"
   ]
  },
  {
   "cell_type": "code",
   "execution_count": null,
   "metadata": {},
   "outputs": [],
   "source": [
    "import requests\n",
    "import overpy\n",
    "import pandas as pd\n",
    "import geopandas as gpd\n",
    "from pathlib import Path\n",
    "from typing import Union"
   ]
  },
  {
   "attachments": {},
   "cell_type": "markdown",
   "metadata": {},
   "source": [
    "### APIs"
   ]
  },
  {
   "cell_type": "code",
   "execution_count": null,
   "metadata": {},
   "outputs": [],
   "source": [
    "osm_api = overpy.Overpass()"
   ]
  },
  {
   "attachments": {},
   "cell_type": "markdown",
   "metadata": {},
   "source": [
    "### Parameters"
   ]
  },
  {
   "cell_type": "code",
   "execution_count": null,
   "metadata": {},
   "outputs": [],
   "source": [
    "start_date = \"2022-01-01\"\n",
    "end_date = \"2022-12-31\""
   ]
  },
  {
   "cell_type": "code",
   "execution_count": null,
   "metadata": {},
   "outputs": [],
   "source": [
    "# show all columns in pandas\n",
    "pd.set_option(\"display.max_columns\", None)"
   ]
  },
  {
   "attachments": {},
   "cell_type": "markdown",
   "metadata": {},
   "source": [
    "### Functions"
   ]
  },
  {
   "cell_type": "code",
   "execution_count": null,
   "metadata": {},
   "outputs": [],
   "source": [
    "def load_raw_gcpt_data(gcpt_path: Union[str, Path]) -> pd.DataFrame:\n",
    "    \"\"\"\n",
    "    Load GCPT data in its raw excel format from GCS.\n",
    "\n",
    "    Returns:\n",
    "        df (pd.DataFrame):\n",
    "            GCPT data frame\n",
    "    \"\"\"\n",
    "    df = pd.read_excel(\n",
    "        gcpt_path,\n",
    "        sheet_name=\"Units\",\n",
    "    )\n",
    "    return df\n",
    "\n",
    "\n",
    "def clean_gcpt_dataframe(df: pd.DataFrame) -> pd.DataFrame:\n",
    "    \"\"\"\n",
    "    Clean the GCPT data frame, setting better column names.\n",
    "\n",
    "    Args:\n",
    "        df (pd.DataFrame):\n",
    "            GCPT data frame\n",
    "\n",
    "    Returns:\n",
    "        df (pd.DataFrame):\n",
    "            Cleaned GCPT data frame\n",
    "    \"\"\"\n",
    "    df.columns = (\n",
    "        df.columns.str.lower()\n",
    "        .str.replace(\" \", \"_\")\n",
    "        .str.replace(\"(\", \"\")\n",
    "        .str.replace(\")\", \"\")\n",
    "        .str.replace(\"/\", \"_\")\n",
    "        .str.replace(\"-\", \"_\")\n",
    "        .str.replace(\",\", \"_\")\n",
    "    )\n",
    "    df.rename(columns={\"parentid\": \"parent_id\"}, inplace=True)\n",
    "    df.rename(columns={\"trackerloc\": \"tracker_loc\"}, inplace=True)\n",
    "    return df"
   ]
  },
  {
   "attachments": {},
   "cell_type": "markdown",
   "metadata": {},
   "source": [
    "## Load data"
   ]
  },
  {
   "attachments": {},
   "cell_type": "markdown",
   "metadata": {},
   "source": [
    "### GEM Global Coal Plant Tracker"
   ]
  },
  {
   "cell_type": "code",
   "execution_count": null,
   "metadata": {},
   "outputs": [],
   "source": [
    "gcpt_df = clean_gcpt_dataframe(\n",
    "    load_raw_gcpt_data(\"/Users/adminuser/Downloads/Global-Coal-Plant-Tracker-January-2023.xlsx\")\n",
    ")\n",
    "gcpt_df"
   ]
  },
  {
   "cell_type": "code",
   "execution_count": null,
   "metadata": {},
   "outputs": [],
   "source": [
    "# convert to geodataframe\n",
    "gcpt_gdf = gpd.GeoDataFrame(\n",
    "    gcpt_df,\n",
    "    geometry=gpd.points_from_xy(gcpt_df.longitude, gcpt_df.latitude),\n",
    "    crs=\"EPSG:4326\",\n",
    ")\n",
    "gcpt_gdf"
   ]
  },
  {
   "attachments": {},
   "cell_type": "markdown",
   "metadata": {},
   "source": [
    "### CAMPD emissions data"
   ]
  },
  {
   "cell_type": "code",
   "execution_count": null,
   "metadata": {},
   "outputs": [],
   "source": []
  },
  {
   "attachments": {},
   "cell_type": "markdown",
   "metadata": {},
   "source": [
    "### OSM cooling_tower tag"
   ]
  },
  {
   "cell_type": "code",
   "execution_count": null,
   "metadata": {},
   "outputs": [],
   "source": [
    "osm_results = osm_api.query(\n",
    "    \"\"\"\n",
    "    [out:json];\n",
    "    // fetch area \"United States of America\" to use as a boundary\n",
    "    {{geocodeArea:United States of America}}->.searchArea;\n",
    "\n",
    "    // query for nodes, ways, and relations with man_made=cooling_tower tag within the search area\n",
    "    (\n",
    "    node[\"man_made\"=\"cooling_tower\"](area.searchArea);\n",
    "    way[\"man_made\"=\"cooling_tower\"](area.searchArea);\n",
    "    relation[\"man_made\"=\"cooling_tower\"](area.searchArea);\n",
    "    );\n",
    "\n",
    "    // output the results\n",
    "    out body;\n",
    "    >;\n",
    "    out skel qt;\n",
    "    \"\"\"\n",
    ")\n",
    "osm_results"
   ]
  },
  {
   "cell_type": "code",
   "execution_count": null,
   "metadata": {},
   "outputs": [],
   "source": [
    "# convert OSM results to geodataframe\n",
    "osm_gdf = gpd.GeoDataFrame.from_features(osm_results.features)\n",
    "osm_gdf"
   ]
  },
  {
   "attachments": {},
   "cell_type": "markdown",
   "metadata": {},
   "source": [
    "## Match data"
   ]
  },
  {
   "cell_type": "code",
   "execution_count": null,
   "metadata": {},
   "outputs": [],
   "source": []
  }
 ],
 "metadata": {
  "kernelspec": {
   "display_name": "ccai_ss23",
   "language": "python",
   "name": "python3"
  },
  "language_info": {
   "codemirror_mode": {
    "name": "ipython",
    "version": 3
   },
   "file_extension": ".py",
   "mimetype": "text/x-python",
   "name": "python",
   "nbconvert_exporter": "python",
   "pygments_lexer": "ipython3",
   "version": "3.10.9"
  },
  "orig_nbformat": 4
 },
 "nbformat": 4,
 "nbformat_minor": 2
}
