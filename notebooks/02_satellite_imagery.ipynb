{
 "cells": [
  {
   "attachments": {},
   "cell_type": "markdown",
   "metadata": {},
   "source": [
    "# Satellite imagery collection and processing\n",
    "---\n",
    "\n",
    "Experimenting with filtering, downloading and displaying Sentinel 2 images from the [AWS STAC of Cloud-Optimized GeoTIFFs](https://registry.opendata.aws/sentinel-2-l2a-cogs/)"
   ]
  },
  {
   "attachments": {},
   "cell_type": "markdown",
   "metadata": {},
   "source": [
    "## Setup"
   ]
  },
  {
   "cell_type": "markdown",
   "metadata": {},
   "source": [
    "### Imports"
   ]
  },
  {
   "cell_type": "code",
   "execution_count": null,
   "metadata": {},
   "outputs": [],
   "source": [
    "import pandas as pd\n",
    "import geopandas as gpd"
   ]
  },
  {
   "cell_type": "code",
   "execution_count": null,
   "metadata": {},
   "outputs": [],
   "source": [
    "from coal_emissions_monitoring.data_cleaning import load_clean_campd_facilities_gdf, load_clean_campd_emissions_df\n",
    "from coal_emissions_monitoring.satellite_imagery import get_aws_cog_links_from_geom"
   ]
  },
  {
   "attachments": {},
   "cell_type": "markdown",
   "metadata": {},
   "source": [
    "### Parameters"
   ]
  },
  {
   "cell_type": "code",
   "execution_count": null,
   "metadata": {},
   "outputs": [],
   "source": [
    "start_date = \"2019-01-01\"\n",
    "end_date = \"20213-03-31\"\n",
    "buffer_meters = 3200 / 2\n",
    "# buffer_degrees = buffer_meters / 111000"
   ]
  },
  {
   "attachments": {},
   "cell_type": "markdown",
   "metadata": {},
   "source": [
    "## Load CAMPD data"
   ]
  },
  {
   "cell_type": "code",
   "execution_count": null,
   "metadata": {},
   "outputs": [],
   "source": [
    "campd_facilities_gdf = load_clean_campd_facilities_gdf(\"/Users/adminuser/GitHub/ccai-ss23-ai-monitoring-tutorial/data/facility-attributes-2d71649a-2e7f-4fdf-abaa-e0529ce2fc62.csv\")\n",
    "campd_facilities_gdf"
   ]
  },
  {
   "cell_type": "code",
   "execution_count": null,
   "metadata": {},
   "outputs": [],
   "source": [
    "facility_dfs = []\n",
    "for facility_id in campd_facilities_gdf.facility_id.unique():\n",
    "    facility_df = campd_facilities_gdf[campd_facilities_gdf.facility_id == facility_id]\n",
    "    # TODO identify what is the local CRS for the current facility, based on its latitude and longitude\n",
    "    # check ChatGPT responses\n",
    "    # convert to the local CRS, based on the coordinates\n",
    "    # facility_df = facility_df.to_crs(epsg=___)\n",
    "    # buffer the geometry into a square that is ~3.2km on each side\n",
    "    facility_df.geometry = facility_df.geometry.buffer(buffer_meters, cap_style=3)\n",
    "    # convert back to the global CRS\n",
    "    facility_df = facility_df.to_crs(epsg=4326)\n",
    "    facility_dfs.append(facility_df)\n",
    "facility_gdf = gpd.GeoDataFrame(pd.concat(facility_dfs, ignore_index=True))"
   ]
  },
  {
   "cell_type": "code",
   "execution_count": null,
   "metadata": {},
   "outputs": [],
   "source": [
    "# buffer the point geometries to become a square polygon\n",
    "campd_facilities_gdf[\"geometry\"] = campd_facilities_gdf.to_crs(epsg=3857).buffer(buffer_meters, cap_style=3).to_crs(epsg=4326)\n",
    "campd_facilities_gdf"
   ]
  },
  {
   "cell_type": "code",
   "execution_count": null,
   "metadata": {},
   "outputs": [],
   "source": [
    "campd_facilities_gdf.geometry.explore()"
   ]
  },
  {
   "attachments": {},
   "cell_type": "markdown",
   "metadata": {},
   "source": [
    "## Filter emissions data to days when a cloudless image is available"
   ]
  },
  {
   "cell_type": "code",
   "execution_count": null,
   "metadata": {},
   "outputs": [],
   "source": []
  },
  {
   "attachments": {},
   "cell_type": "markdown",
   "metadata": {},
   "source": [
    "## Download and display images"
   ]
  },
  {
   "cell_type": "code",
   "execution_count": null,
   "metadata": {},
   "outputs": [],
   "source": []
  }
 ],
 "metadata": {
  "kernelspec": {
   "display_name": "ccai_ss23",
   "language": "python",
   "name": "python3"
  },
  "language_info": {
   "codemirror_mode": {
    "name": "ipython",
    "version": 3
   },
   "file_extension": ".py",
   "mimetype": "text/x-python",
   "name": "python",
   "nbconvert_exporter": "python",
   "pygments_lexer": "ipython3",
   "version": "3.10.9"
  },
  "orig_nbformat": 4
 },
 "nbformat": 4,
 "nbformat_minor": 2
}
